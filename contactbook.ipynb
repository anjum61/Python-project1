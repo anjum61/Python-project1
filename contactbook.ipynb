{
  "nbformat": 4,
  "nbformat_minor": 0,
  "metadata": {
    "colab": {
      "name": "contactbook.ipynb",
      "provenance": []
    },
    "kernelspec": {
      "name": "python3",
      "display_name": "Python 3"
    }
  },
  "cells": [
    {
      "cell_type": "markdown",
      "metadata": {
        "id": "N30Bnd8Da7Kn",
        "colab_type": "text"
      },
      "source": [
        ""
      ]
    },
    {
      "cell_type": "markdown",
      "metadata": {
        "id": "wlqU4kU0iTPY",
        "colab_type": "text"
      },
      "source": [
        "#project name(appn name-contact app)\n",
        "* to add a contact detail\n",
        "* to search the contact detail\n",
        "* to modify the contact detail\n",
        "* to delete the contact detail"
      ]
    },
    {
      "cell_type": "code",
      "metadata": {
        "id": "OfHTn0xDbVQ6",
        "colab_type": "code",
        "outputId": "03136ae8-85c7-4344-b5af-60646f1c9bfc",
        "colab": {
          "base_uri": "https://localhost:8080/",
          "height": 102
        }
      },
      "source": [
        "contacts={} #empty dict is taken\n",
        "#function to add contact details\n",
        "def addcontact(name,phone):\n",
        "    if name not in contacts: #checking for existing contacts\n",
        "        contacts[name]=phone\n",
        "        print(\"successfully created\")\n",
        "    else:\n",
        "        print(\"already exists\")   \n",
        "    return\n",
        "addcontact('anju','942535321')\n",
        "addcontact('ziya','842535321')\n",
        "addcontact('tann','462436671')\n",
        "addcontact('anju','942535321')\n",
        "contacts"
      ],
      "execution_count": 0,
      "outputs": [
        {
          "output_type": "stream",
          "text": [
            "successfully created\n",
            "successfully created\n",
            "successfully created\n",
            "already exists\n"
          ],
          "name": "stdout"
        },
        {
          "output_type": "execute_result",
          "data": {
            "text/plain": [
              "{'anju': '942535321', 'tann': '462436671', 'ziya': '842535321'}"
            ]
          },
          "metadata": {
            "tags": []
          },
          "execution_count": 1
        }
      ]
    },
    {
      "cell_type": "code",
      "metadata": {
        "id": "gHXPKSlAbZEV",
        "colab_type": "code",
        "outputId": "a25f6ed5-a4f7-4594-b69b-55704b041e5c",
        "colab": {
          "base_uri": "https://localhost:8080/",
          "height": 34
        }
      },
      "source": [
        "#searching\n",
        "def searchcontact(name):\n",
        "    if name in contacts:\n",
        "        print( name,\":\",contacts[name])\n",
        "    else:    \n",
        "        print(\"not exists\")\n",
        "    return        \n",
        "searchcontact('anju')"
      ],
      "execution_count": 0,
      "outputs": [
        {
          "output_type": "stream",
          "text": [
            "anju : 942535321\n"
          ],
          "name": "stdout"
        }
      ]
    },
    {
      "cell_type": "code",
      "metadata": {
        "id": "elyXZLXbbnSk",
        "colab_type": "code",
        "outputId": "dcf89222-4908-45c6-91f8-20eacf3d980d",
        "colab": {
          "base_uri": "https://localhost:8080/",
          "height": 34
        }
      },
      "source": [
        "#deleting\n",
        "def deletecontact(name):\n",
        "    if name not in contacts:\n",
        "        print(\"contact doesn't exists\")\n",
        "    else:  \n",
        "        del contacts[name]\n",
        "        print(name,\"contact is deleted\")\n",
        "    return\n",
        "deletecontact('anju') "
      ],
      "execution_count": 0,
      "outputs": [
        {
          "output_type": "stream",
          "text": [
            "anju contact is deleted\n"
          ],
          "name": "stdout"
        }
      ]
    },
    {
      "cell_type": "code",
      "metadata": {
        "id": "bdHD5tDnbwNB",
        "colab_type": "code",
        "outputId": "3a1f3f8e-abbf-4f5f-c1f4-b104cdbe4494",
        "colab": {
          "base_uri": "https://localhost:8080/",
          "height": 34
        }
      },
      "source": [
        "contacts"
      ],
      "execution_count": 0,
      "outputs": [
        {
          "output_type": "execute_result",
          "data": {
            "text/plain": [
              "{'tann': '462436671', 'ziya': '842535321'}"
            ]
          },
          "metadata": {
            "tags": []
          },
          "execution_count": 6
        }
      ]
    },
    {
      "cell_type": "code",
      "metadata": {
        "id": "sBoBgEWMb3ie",
        "colab_type": "code",
        "outputId": "0141ab81-c831-4dc5-e49f-926c20c72629",
        "colab": {
          "base_uri": "https://localhost:8080/",
          "height": 34
        }
      },
      "source": [
        "#modifying\n",
        "def modify(name,phone):\n",
        "    if name not in contacts:\n",
        "        print(\"contact doesn't exists\")\n",
        "    else:\n",
        "         contacts[name]=phone\n",
        "         print(name,\"contact modified\")\n",
        "    return\n",
        "modify('tann','35235643') "
      ],
      "execution_count": 0,
      "outputs": [
        {
          "output_type": "stream",
          "text": [
            "tann contact modified\n"
          ],
          "name": "stdout"
        }
      ]
    },
    {
      "cell_type": "code",
      "metadata": {
        "id": "fZj0yxBRcHh4",
        "colab_type": "code",
        "outputId": "b5999e03-2f46-4671-8857-c468f01a7b92",
        "colab": {
          "base_uri": "https://localhost:8080/",
          "height": 34
        }
      },
      "source": [
        "contacts"
      ],
      "execution_count": 0,
      "outputs": [
        {
          "output_type": "execute_result",
          "data": {
            "text/plain": [
              "{'tann': '35235643', 'ziya': '842535321'}"
            ]
          },
          "metadata": {
            "tags": []
          },
          "execution_count": 9
        }
      ]
    },
    {
      "cell_type": "code",
      "metadata": {
        "id": "VEdrpNNvcJGp",
        "colab_type": "code",
        "colab": {}
      },
      "source": [
        ""
      ],
      "execution_count": 0,
      "outputs": []
    }
  ]
}